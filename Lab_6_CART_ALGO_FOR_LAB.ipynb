{
  "cells": [
    {
      "cell_type": "markdown",
      "metadata": {
        "id": "view-in-github",
        "colab_type": "text"
      },
      "source": [
        "<a href=\"https://colab.research.google.com/github/Bipin-Gouda/ML_Scratch/blob/main/Lab_6_CART_ALGO_FOR_LAB.ipynb\" target=\"_parent\"><img src=\"https://colab.research.google.com/assets/colab-badge.svg\" alt=\"Open In Colab\"/></a>"
      ]
    },
    {
      "cell_type": "code",
      "execution_count": null,
      "id": "87e102cb",
      "metadata": {
        "id": "87e102cb"
      },
      "outputs": [],
      "source": [
        "import pandas as pd\n",
        "import numpy as np\n",
        "import pprint\n",
        "from collections import Counter"
      ]
    },
    {
      "cell_type": "code",
      "source": [
        "from google.colab import drive\n",
        "drive.mount('/content/drive')"
      ],
      "metadata": {
        "colab": {
          "base_uri": "https://localhost:8080/"
        },
        "id": "ncqwSVG3dGWx",
        "outputId": "eb788d68-ecb4-405c-8697-d936b4be7ab5"
      },
      "id": "ncqwSVG3dGWx",
      "execution_count": null,
      "outputs": [
        {
          "output_type": "stream",
          "name": "stdout",
          "text": [
            "Drive already mounted at /content/drive; to attempt to forcibly remount, call drive.mount(\"/content/drive\", force_remount=True).\n"
          ]
        }
      ]
    },
    {
      "cell_type": "code",
      "execution_count": null,
      "id": "633193cf",
      "metadata": {
        "scrolled": false,
        "colab": {
          "base_uri": "https://localhost:8080/"
        },
        "id": "633193cf",
        "outputId": "b7e1c62e-5e9d-4505-a19f-b2048d9bff7d"
      },
      "outputs": [
        {
          "output_type": "stream",
          "name": "stdout",
          "text": [
            "1      age  income student credit_rating Answer\n",
            "2    young    high      no          fair     no\n",
            "3    young    high      no     excellent     no\n",
            "4   Midage    high      no          fair    yes\n",
            "5   senior  medium      no          fair    yes\n",
            "6   senior     low     yes          fair    yes\n",
            "7   senior     low     yes     excellent     no\n",
            "8   Midage     low     yes     excellent    yes\n",
            "9    young  medium      no          fair     no\n",
            "10   young     low     yes          fair    yes\n",
            "11  senior  medium     yes          fair    yes\n",
            "12   young  medium     yes     excellent    yes\n",
            "13  Midage  medium      no     excellent    yes\n",
            "14  Midage    high     yes          fair    yes\n",
            "15  senior  medium      no     excellent     no\n"
          ]
        }
      ],
      "source": [
        "df=pd.read_excel(\"/content/drive/MyDrive/Copy of Lab 4 ML Dataset - ID3.xlsx\",index_col=None)\n",
        "df.columns=df.iloc[1,:]\n",
        "df=df.iloc[2:16,:]\n",
        "print(df)"
      ]
    },
    {
      "cell_type": "code",
      "source": [],
      "metadata": {
        "id": "YNVdkMk6cqad"
      },
      "id": "YNVdkMk6cqad",
      "execution_count": null,
      "outputs": []
    },
    {
      "cell_type": "code",
      "execution_count": null,
      "id": "97da95f2",
      "metadata": {
        "id": "97da95f2"
      },
      "outputs": [],
      "source": [
        "X_train=df.iloc[:,:-1].values\n",
        "Y_train=df.iloc[:,-1].values"
      ]
    },
    {
      "cell_type": "code",
      "execution_count": null,
      "id": "04882db7",
      "metadata": {
        "colab": {
          "base_uri": "https://localhost:8080/"
        },
        "id": "04882db7",
        "outputId": "99ab8718-43fe-4d5a-db51-1f73aad15580"
      },
      "outputs": [
        {
          "output_type": "execute_result",
          "data": {
            "text/plain": [
              "{'age': ['young', 'Midage'],\n",
              " 'income': ['high', 'low'],\n",
              " 'student': ['yes', 'no'],\n",
              " 'credit_rating': ['excellent', 'excellent']}"
            ]
          },
          "metadata": {},
          "execution_count": 34
        }
      ],
      "source": [
        "test = {\n",
        "    'age': ['young', 'Midage'],\n",
        "    'income': ['high', 'low'],\n",
        "    'student': ['yes', 'no'],\n",
        "    'credit_rating': ['excellent', 'excellent']\n",
        "}\n",
        "X_test = test\n",
        "test = pd.DataFrame(X_test, columns=test.keys())\n",
        "X_test"
      ]
    },
    {
      "cell_type": "code",
      "execution_count": null,
      "id": "adf64100",
      "metadata": {
        "colab": {
          "base_uri": "https://localhost:8080/"
        },
        "id": "adf64100",
        "outputId": "0642d9b7-8392-4094-8550-54e68bab814f"
      },
      "outputs": [
        {
          "output_type": "stream",
          "name": "stdout",
          "text": [
            "[0 0 1 1 1 0 1 0 1 1 1 1 1 0]\n"
          ]
        }
      ],
      "source": [
        "ytrain=[]\n",
        "for i in Y_train:\n",
        "  if i=='yes':\n",
        "    ytrain.append(1)\n",
        "  else:\n",
        "    ytrain.append(0)\n",
        "ytrain=np.array(ytrain)\n",
        "print(ytrain)\n"
      ]
    },
    {
      "cell_type": "code",
      "execution_count": null,
      "id": "e9776038",
      "metadata": {
        "id": "e9776038"
      },
      "outputs": [],
      "source": [
        "class DecisionTree:\n",
        "    def __init__(self, max_depth=None):\n",
        "        self.max_depth = max_depth\n",
        "        self.tree = None\n",
        "\n",
        "    def fit(self, X, y, depth=0):\n",
        "        if depth == 0:\n",
        "            self.classes = np.unique(y)\n",
        "        if (self.max_depth is not None and depth >= self.max_depth) or np.all(y == y[0]):\n",
        "#             print(f\"Reached leaf node with class {y[0]}\")\n",
        "            return self.classes[np.argmax(np.bincount(y))]\n",
        "\n",
        "        best_split = self.find_best_split(X, y)\n",
        "        if best_split is None:\n",
        "#             print(\"No further split is possible.\")\n",
        "            return self.classes[np.argmax(np.bincount(y))]\n",
        "\n",
        "        feature_idx, threshold = best_split\n",
        "#         print(f\"Splitting on feature {feature_idx} with value {threshold}\")\n",
        "        sub_tree = {f\"X{feature_idx} = {threshold}\": {}, f\"noX{feature_idx} = {threshold}\": {}}\n",
        "        X_left, y_left, X_right, y_right = self.split_data(X, y, feature_idx, threshold)\n",
        "\n",
        "        sub_tree[f\"X{feature_idx} = {threshold}\"] = self.fit(X_left, y_left, depth + 1)\n",
        "        sub_tree[f\"noX{feature_idx} = {threshold}\"] = self.fit(X_right, y_right, depth + 1)\n",
        "\n",
        "        return sub_tree\n",
        "\n",
        "    def find_best_split(self, X, y):\n",
        "        num_samples, num_features = X.shape\n",
        "        if num_samples <= 1:\n",
        "            return None\n",
        "\n",
        "        gini_parent = self.calculate_gini(y)\n",
        "        best_ginich = 0\n",
        "        best_split = None\n",
        "\n",
        "        for feature_idx in range(num_features):\n",
        "            unique_values = np.unique(X[:, feature_idx])\n",
        "            for threshold in unique_values:\n",
        "                X_left, y_left, X_right, y_right = self.split_data(X, y, feature_idx, threshold)\n",
        "                if len(y_left) == 0 or len(y_right) == 0:\n",
        "                    continue\n",
        "\n",
        "                gini_left = self.calculate_gini(y_left)\n",
        "                gini_right = self.calculate_gini(y_right)\n",
        "                gini_change = gini_parent - (len(y_left) / num_samples * gini_left + len(y_right) / num_samples * gini_right)\n",
        "\n",
        "                if gini_change > best_ginich:\n",
        "                    best_ginich = gini_change\n",
        "                    best_split = (feature_idx, threshold)\n",
        "\n",
        "        return best_split\n",
        "\n",
        "    def split_data(self, X, y, feature_idx, threshold):\n",
        "        X_left = X[X[:, feature_idx] == threshold]\n",
        "        y_left = y[X[:, feature_idx] == threshold]\n",
        "        X_right = X[X[:, feature_idx] != threshold]\n",
        "        y_right = y[X[:, feature_idx] != threshold]\n",
        "        return X_left, y_left, X_right, y_right\n",
        "\n",
        "    def calculate_gini(self, y):\n",
        "        if len(y) == 0:\n",
        "            return 0\n",
        "        class_counts = Counter(y)\n",
        "        num_samples = len(y)\n",
        "        entropy = 1-sum((count / num_samples)**2 for count in class_counts.values())\n",
        "        return entropy\n",
        "\n",
        "\n",
        "    def predict(self, X, tree):\n",
        "        if isinstance(tree, np.ndarray):\n",
        "            return tree\n",
        "        if isinstance(tree, dict):\n",
        "\n",
        "                condition=list(tree.keys())[0]\n",
        "                feature_idx, threshold = map(str.strip, condition.split(\"X\")[1].split(\"=\"))\n",
        "                feature_idx = int(feature_idx)\n",
        "\n",
        "                if X[feature_idx] == threshold:\n",
        "\n",
        "                    return self.predict(X, tree[f\"X{feature_idx} = {threshold}\"])\n",
        "                else:\n",
        "\n",
        "                    return self.predict(X, tree[f\"noX{feature_idx} = {threshold}\"])\n",
        "        else:\n",
        "            return tree\n",
        "\n",
        "    def fit_predict(self, X_train, y_train, X_test):\n",
        "        self.tree = self.fit(X_train, y_train)\n",
        "        pprint.pprint(self.tree)\n",
        "        train_predictions = [self.predict(x, self.tree) for x in X_train]\n",
        "        test_predictions = [self.predict(x, self.tree) for x in X_test]\n",
        "        return train_predictions, test_predictions"
      ]
    },
    {
      "cell_type": "code",
      "execution_count": null,
      "id": "7e57d224",
      "metadata": {
        "id": "7e57d224"
      },
      "outputs": [],
      "source": [
        "# Building Tree"
      ]
    },
    {
      "cell_type": "code",
      "execution_count": null,
      "id": "0306f85e",
      "metadata": {
        "colab": {
          "base_uri": "https://localhost:8080/",
          "height": 459
        },
        "id": "0306f85e",
        "outputId": "e954250f-a4bb-46de-9ce9-2d2b4cef7893"
      },
      "outputs": [
        {
          "output_type": "stream",
          "name": "stdout",
          "text": [
            "{'X0 = Midage': 1,\n",
            " 'noX0 = Midage': {'X2 = no': {'X0 = senior': {'X3 = excellent': 0,\n",
            "                                               'noX3 = excellent': 1},\n",
            "                               'noX0 = senior': 0},\n",
            "                   'noX2 = no': {'X3 = excellent': {'X0 = senior': 0,\n",
            "                                                    'noX0 = senior': 1},\n",
            "                                 'noX3 = excellent': 1}}}\n"
          ]
        },
        {
          "output_type": "error",
          "ename": "IndexError",
          "evalue": "ignored",
          "traceback": [
            "\u001b[0;31m---------------------------------------------------------------------------\u001b[0m",
            "\u001b[0;31mIndexError\u001b[0m                                Traceback (most recent call last)",
            "\u001b[0;32m<ipython-input-38-cbd609bf8752>\u001b[0m in \u001b[0;36m<cell line: 2>\u001b[0;34m()\u001b[0m\n\u001b[1;32m      1\u001b[0m \u001b[0mdecision_tree\u001b[0m \u001b[0;34m=\u001b[0m \u001b[0mDecisionTree\u001b[0m\u001b[0;34m(\u001b[0m\u001b[0mmax_depth\u001b[0m\u001b[0;34m=\u001b[0m\u001b[0;36m8\u001b[0m\u001b[0;34m)\u001b[0m\u001b[0;34m\u001b[0m\u001b[0;34m\u001b[0m\u001b[0m\n\u001b[0;32m----> 2\u001b[0;31m \u001b[0mtrain_predictions\u001b[0m\u001b[0;34m,\u001b[0m \u001b[0mtest_predictions\u001b[0m \u001b[0;34m=\u001b[0m \u001b[0mdecision_tree\u001b[0m\u001b[0;34m.\u001b[0m\u001b[0mfit_predict\u001b[0m\u001b[0;34m(\u001b[0m\u001b[0mX_train\u001b[0m\u001b[0;34m,\u001b[0m \u001b[0mytrain\u001b[0m\u001b[0;34m,\u001b[0m \u001b[0mX_test\u001b[0m\u001b[0;34m)\u001b[0m\u001b[0;34m\u001b[0m\u001b[0;34m\u001b[0m\u001b[0m\n\u001b[0m",
            "\u001b[0;32m<ipython-input-36-8f760c1566e9>\u001b[0m in \u001b[0;36mfit_predict\u001b[0;34m(self, X_train, y_train, X_test)\u001b[0m\n\u001b[1;32m     90\u001b[0m         \u001b[0mpprint\u001b[0m\u001b[0;34m.\u001b[0m\u001b[0mpprint\u001b[0m\u001b[0;34m(\u001b[0m\u001b[0mself\u001b[0m\u001b[0;34m.\u001b[0m\u001b[0mtree\u001b[0m\u001b[0;34m)\u001b[0m\u001b[0;34m\u001b[0m\u001b[0;34m\u001b[0m\u001b[0m\n\u001b[1;32m     91\u001b[0m         \u001b[0mtrain_predictions\u001b[0m \u001b[0;34m=\u001b[0m \u001b[0;34m[\u001b[0m\u001b[0mself\u001b[0m\u001b[0;34m.\u001b[0m\u001b[0mpredict\u001b[0m\u001b[0;34m(\u001b[0m\u001b[0mx\u001b[0m\u001b[0;34m,\u001b[0m \u001b[0mself\u001b[0m\u001b[0;34m.\u001b[0m\u001b[0mtree\u001b[0m\u001b[0;34m)\u001b[0m \u001b[0;32mfor\u001b[0m \u001b[0mx\u001b[0m \u001b[0;32min\u001b[0m \u001b[0mX_train\u001b[0m\u001b[0;34m]\u001b[0m\u001b[0;34m\u001b[0m\u001b[0;34m\u001b[0m\u001b[0m\n\u001b[0;32m---> 92\u001b[0;31m         \u001b[0mtest_predictions\u001b[0m \u001b[0;34m=\u001b[0m \u001b[0;34m[\u001b[0m\u001b[0mself\u001b[0m\u001b[0;34m.\u001b[0m\u001b[0mpredict\u001b[0m\u001b[0;34m(\u001b[0m\u001b[0mx\u001b[0m\u001b[0;34m,\u001b[0m \u001b[0mself\u001b[0m\u001b[0;34m.\u001b[0m\u001b[0mtree\u001b[0m\u001b[0;34m)\u001b[0m \u001b[0;32mfor\u001b[0m \u001b[0mx\u001b[0m \u001b[0;32min\u001b[0m \u001b[0mX_test\u001b[0m\u001b[0;34m]\u001b[0m\u001b[0;34m\u001b[0m\u001b[0;34m\u001b[0m\u001b[0m\n\u001b[0m\u001b[1;32m     93\u001b[0m         \u001b[0;32mreturn\u001b[0m \u001b[0mtrain_predictions\u001b[0m\u001b[0;34m,\u001b[0m \u001b[0mtest_predictions\u001b[0m\u001b[0;34m\u001b[0m\u001b[0;34m\u001b[0m\u001b[0m\n",
            "\u001b[0;32m<ipython-input-36-8f760c1566e9>\u001b[0m in \u001b[0;36m<listcomp>\u001b[0;34m(.0)\u001b[0m\n\u001b[1;32m     90\u001b[0m         \u001b[0mpprint\u001b[0m\u001b[0;34m.\u001b[0m\u001b[0mpprint\u001b[0m\u001b[0;34m(\u001b[0m\u001b[0mself\u001b[0m\u001b[0;34m.\u001b[0m\u001b[0mtree\u001b[0m\u001b[0;34m)\u001b[0m\u001b[0;34m\u001b[0m\u001b[0;34m\u001b[0m\u001b[0m\n\u001b[1;32m     91\u001b[0m         \u001b[0mtrain_predictions\u001b[0m \u001b[0;34m=\u001b[0m \u001b[0;34m[\u001b[0m\u001b[0mself\u001b[0m\u001b[0;34m.\u001b[0m\u001b[0mpredict\u001b[0m\u001b[0;34m(\u001b[0m\u001b[0mx\u001b[0m\u001b[0;34m,\u001b[0m \u001b[0mself\u001b[0m\u001b[0;34m.\u001b[0m\u001b[0mtree\u001b[0m\u001b[0;34m)\u001b[0m \u001b[0;32mfor\u001b[0m \u001b[0mx\u001b[0m \u001b[0;32min\u001b[0m \u001b[0mX_train\u001b[0m\u001b[0;34m]\u001b[0m\u001b[0;34m\u001b[0m\u001b[0;34m\u001b[0m\u001b[0m\n\u001b[0;32m---> 92\u001b[0;31m         \u001b[0mtest_predictions\u001b[0m \u001b[0;34m=\u001b[0m \u001b[0;34m[\u001b[0m\u001b[0mself\u001b[0m\u001b[0;34m.\u001b[0m\u001b[0mpredict\u001b[0m\u001b[0;34m(\u001b[0m\u001b[0mx\u001b[0m\u001b[0;34m,\u001b[0m \u001b[0mself\u001b[0m\u001b[0;34m.\u001b[0m\u001b[0mtree\u001b[0m\u001b[0;34m)\u001b[0m \u001b[0;32mfor\u001b[0m \u001b[0mx\u001b[0m \u001b[0;32min\u001b[0m \u001b[0mX_test\u001b[0m\u001b[0;34m]\u001b[0m\u001b[0;34m\u001b[0m\u001b[0;34m\u001b[0m\u001b[0m\n\u001b[0m\u001b[1;32m     93\u001b[0m         \u001b[0;32mreturn\u001b[0m \u001b[0mtrain_predictions\u001b[0m\u001b[0;34m,\u001b[0m \u001b[0mtest_predictions\u001b[0m\u001b[0;34m\u001b[0m\u001b[0;34m\u001b[0m\u001b[0m\n",
            "\u001b[0;32m<ipython-input-36-8f760c1566e9>\u001b[0m in \u001b[0;36mpredict\u001b[0;34m(self, X, tree)\u001b[0m\n\u001b[1;32m     82\u001b[0m                 \u001b[0;32melse\u001b[0m\u001b[0;34m:\u001b[0m\u001b[0;34m\u001b[0m\u001b[0;34m\u001b[0m\u001b[0m\n\u001b[1;32m     83\u001b[0m \u001b[0;34m\u001b[0m\u001b[0m\n\u001b[0;32m---> 84\u001b[0;31m                     \u001b[0;32mreturn\u001b[0m \u001b[0mself\u001b[0m\u001b[0;34m.\u001b[0m\u001b[0mpredict\u001b[0m\u001b[0;34m(\u001b[0m\u001b[0mX\u001b[0m\u001b[0;34m,\u001b[0m \u001b[0mtree\u001b[0m\u001b[0;34m[\u001b[0m\u001b[0;34mf\"noX{feature_idx} = {threshold}\"\u001b[0m\u001b[0;34m]\u001b[0m\u001b[0;34m)\u001b[0m\u001b[0;34m\u001b[0m\u001b[0;34m\u001b[0m\u001b[0m\n\u001b[0m\u001b[1;32m     85\u001b[0m         \u001b[0;32melse\u001b[0m\u001b[0;34m:\u001b[0m\u001b[0;34m\u001b[0m\u001b[0;34m\u001b[0m\u001b[0m\n\u001b[1;32m     86\u001b[0m             \u001b[0;32mreturn\u001b[0m \u001b[0mtree\u001b[0m\u001b[0;34m\u001b[0m\u001b[0;34m\u001b[0m\u001b[0m\n",
            "\u001b[0;32m<ipython-input-36-8f760c1566e9>\u001b[0m in \u001b[0;36mpredict\u001b[0;34m(self, X, tree)\u001b[0m\n\u001b[1;32m     82\u001b[0m                 \u001b[0;32melse\u001b[0m\u001b[0;34m:\u001b[0m\u001b[0;34m\u001b[0m\u001b[0;34m\u001b[0m\u001b[0m\n\u001b[1;32m     83\u001b[0m \u001b[0;34m\u001b[0m\u001b[0m\n\u001b[0;32m---> 84\u001b[0;31m                     \u001b[0;32mreturn\u001b[0m \u001b[0mself\u001b[0m\u001b[0;34m.\u001b[0m\u001b[0mpredict\u001b[0m\u001b[0;34m(\u001b[0m\u001b[0mX\u001b[0m\u001b[0;34m,\u001b[0m \u001b[0mtree\u001b[0m\u001b[0;34m[\u001b[0m\u001b[0;34mf\"noX{feature_idx} = {threshold}\"\u001b[0m\u001b[0;34m]\u001b[0m\u001b[0;34m)\u001b[0m\u001b[0;34m\u001b[0m\u001b[0;34m\u001b[0m\u001b[0m\n\u001b[0m\u001b[1;32m     85\u001b[0m         \u001b[0;32melse\u001b[0m\u001b[0;34m:\u001b[0m\u001b[0;34m\u001b[0m\u001b[0;34m\u001b[0m\u001b[0m\n\u001b[1;32m     86\u001b[0m             \u001b[0;32mreturn\u001b[0m \u001b[0mtree\u001b[0m\u001b[0;34m\u001b[0m\u001b[0;34m\u001b[0m\u001b[0m\n",
            "\u001b[0;32m<ipython-input-36-8f760c1566e9>\u001b[0m in \u001b[0;36mpredict\u001b[0;34m(self, X, tree)\u001b[0m\n\u001b[1;32m     77\u001b[0m                 \u001b[0mfeature_idx\u001b[0m \u001b[0;34m=\u001b[0m \u001b[0mint\u001b[0m\u001b[0;34m(\u001b[0m\u001b[0mfeature_idx\u001b[0m\u001b[0;34m)\u001b[0m\u001b[0;34m\u001b[0m\u001b[0;34m\u001b[0m\u001b[0m\n\u001b[1;32m     78\u001b[0m \u001b[0;34m\u001b[0m\u001b[0m\n\u001b[0;32m---> 79\u001b[0;31m                 \u001b[0;32mif\u001b[0m \u001b[0mX\u001b[0m\u001b[0;34m[\u001b[0m\u001b[0mfeature_idx\u001b[0m\u001b[0;34m]\u001b[0m \u001b[0;34m==\u001b[0m \u001b[0mthreshold\u001b[0m\u001b[0;34m:\u001b[0m\u001b[0;34m\u001b[0m\u001b[0;34m\u001b[0m\u001b[0m\n\u001b[0m\u001b[1;32m     80\u001b[0m \u001b[0;34m\u001b[0m\u001b[0m\n\u001b[1;32m     81\u001b[0m                     \u001b[0;32mreturn\u001b[0m \u001b[0mself\u001b[0m\u001b[0;34m.\u001b[0m\u001b[0mpredict\u001b[0m\u001b[0;34m(\u001b[0m\u001b[0mX\u001b[0m\u001b[0;34m,\u001b[0m \u001b[0mtree\u001b[0m\u001b[0;34m[\u001b[0m\u001b[0;34mf\"X{feature_idx} = {threshold}\"\u001b[0m\u001b[0;34m]\u001b[0m\u001b[0;34m)\u001b[0m\u001b[0;34m\u001b[0m\u001b[0;34m\u001b[0m\u001b[0m\n",
            "\u001b[0;31mIndexError\u001b[0m: string index out of range"
          ]
        }
      ],
      "source": [
        "decision_tree = DecisionTree(max_depth=8)\n",
        "train_predictions, test_predictions = decision_tree.fit_predict(X_train, ytrain, X_test)"
      ]
    },
    {
      "cell_type": "code",
      "source": [
        "decision_tree"
      ],
      "metadata": {
        "id": "3iGPa9MCef6N"
      },
      "id": "3iGPa9MCef6N",
      "execution_count": null,
      "outputs": []
    },
    {
      "cell_type": "code",
      "execution_count": null,
      "id": "ea3c07ec",
      "metadata": {
        "id": "ea3c07ec"
      },
      "outputs": [],
      "source": [
        "# Prdeiction\n",
        "print(test_predictions)"
      ]
    }
  ],
  "metadata": {
    "kernelspec": {
      "display_name": "Python 3 (ipykernel)",
      "language": "python",
      "name": "python3"
    },
    "language_info": {
      "codemirror_mode": {
        "name": "ipython",
        "version": 3
      },
      "file_extension": ".py",
      "mimetype": "text/x-python",
      "name": "python",
      "nbconvert_exporter": "python",
      "pygments_lexer": "ipython3",
      "version": "3.9.13"
    },
    "colab": {
      "provenance": [],
      "include_colab_link": true
    }
  },
  "nbformat": 4,
  "nbformat_minor": 5
}