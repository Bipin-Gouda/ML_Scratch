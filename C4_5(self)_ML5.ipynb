{
  "nbformat": 4,
  "nbformat_minor": 0,
  "metadata": {
    "colab": {
      "provenance": [],
      "authorship_tag": "ABX9TyMFnOLj/RSpyPmB3Fq4E/Vr",
      "include_colab_link": true
    },
    "kernelspec": {
      "name": "python3",
      "display_name": "Python 3"
    },
    "language_info": {
      "name": "python"
    }
  },
  "cells": [
    {
      "cell_type": "markdown",
      "metadata": {
        "id": "view-in-github",
        "colab_type": "text"
      },
      "source": [
        "<a href=\"https://colab.research.google.com/github/Bipin-Gouda/ML_Scratch/blob/main/C4_5(self)_ML5.ipynb\" target=\"_parent\"><img src=\"https://colab.research.google.com/assets/colab-badge.svg\" alt=\"Open In Colab\"/></a>"
      ]
    },
    {
      "cell_type": "code",
      "source": [
        "import pandas as pd\n",
        "import math\n",
        "import numpy as np"
      ],
      "metadata": {
        "id": "IIT9IeGk6jbN"
      },
      "execution_count": null,
      "outputs": []
    },
    {
      "cell_type": "code",
      "source": [
        "from google.colab import drive\n",
        "drive.mount('/content/drive')"
      ],
      "metadata": {
        "colab": {
          "base_uri": "https://localhost:8080/"
        },
        "id": "U_nzVxVk6kTO",
        "outputId": "3eb68f48-7493-44ca-b83e-226c6ff5a341"
      },
      "execution_count": null,
      "outputs": [
        {
          "output_type": "stream",
          "name": "stdout",
          "text": [
            "Mounted at /content/drive\n"
          ]
        }
      ]
    },
    {
      "cell_type": "code",
      "source": [
        "df=pd.read_excel(\"/content/drive/MyDrive/Copy of Lab 4 ML Dataset - ID3.xlsx\",index_col=None)"
      ],
      "metadata": {
        "id": "CVHOVIE76omp"
      },
      "execution_count": null,
      "outputs": []
    },
    {
      "cell_type": "code",
      "source": [
        "df.columns=df.iloc[1,:]\n",
        "df=df.iloc[2:16,:]\n",
        "print(df)"
      ],
      "metadata": {
        "colab": {
          "base_uri": "https://localhost:8080/"
        },
        "id": "DzWuz3Ao6x2s",
        "outputId": "66c2fc77-8810-43e1-f1e8-677776f9ee25"
      },
      "execution_count": null,
      "outputs": [
        {
          "output_type": "stream",
          "name": "stdout",
          "text": [
            "1      age  income student credit_rating Answer\n",
            "2    young    high      no          fair     no\n",
            "3    young    high      no     excellent     no\n",
            "4   Midage    high      no          fair    yes\n",
            "5   senior  medium      no          fair    yes\n",
            "6   senior     low     yes          fair    yes\n",
            "7   senior     low     yes     excellent     no\n",
            "8   Midage     low     yes     excellent    yes\n",
            "9    young  medium      no          fair     no\n",
            "10   young     low     yes          fair    yes\n",
            "11  senior  medium     yes          fair    yes\n",
            "12   young  medium     yes     excellent    yes\n",
            "13  Midage  medium      no     excellent    yes\n",
            "14  Midage    high     yes          fair    yes\n",
            "15  senior  medium      no     excellent     no\n"
          ]
        }
      ]
    },
    {
      "cell_type": "code",
      "source": [],
      "metadata": {
        "id": "VUEbgScsAibm"
      },
      "execution_count": null,
      "outputs": []
    },
    {
      "cell_type": "code",
      "execution_count": null,
      "metadata": {
        "id": "L57NDeUB3atl"
      },
      "outputs": [],
      "source": [
        "import pandas as pd\n",
        "from math import log2\n",
        "\n",
        "def entropy(data):\n",
        "    if len(data) == 0:\n",
        "        return 0\n",
        "\n",
        "    labels = data['Answer']\n",
        "    values = labels.value_counts(normalize=True)\n",
        "    return -sum(p * log2(p) for p in values)\n",
        "\n",
        "def information_gain(data, attribute):\n",
        "    values = data[attribute].unique()\n",
        "    ent_before = entropy(data)\n",
        "\n",
        "    ent_after = sum(data[data[attribute] == value].shape[0] / data.shape[0] * entropy(data[data[attribute] == value]) for value in values)\n",
        "\n",
        "    return ent_before - ent_after\n",
        "\n",
        "def get_best_attribute(data, attributes):\n",
        "    gains = {attribute: information_gain(data, attribute) for attribute in attributes}\n",
        "    return max(gains, key=gains.get)\n",
        "\n",
        "def c45(data, attributes, default=None):\n",
        "    if len(data) == 0:\n",
        "        return default\n",
        "\n",
        "    labels = data['Answer']\n",
        "    if len(labels.unique()) == 1:\n",
        "        return labels.iloc[0]\n",
        "\n",
        "    if len(attributes) == 0:\n",
        "        return labels.value_counts().idxmax()\n",
        "\n",
        "    best_attribute = get_best_attribute(data, attributes)\n",
        "    tree = {best_attribute: {}}\n",
        "\n",
        "    values = data[best_attribute].unique()\n",
        "    for value in values:\n",
        "        subset = data[data[best_attribute] == value]\n",
        "        subtree = c45(subset, [attr for attr in attributes if attr != best_attribute], labels.mode()[0])\n",
        "        tree[best_attribute][value] = subtree\n",
        "\n",
        "    return tree"
      ]
    },
    {
      "cell_type": "code",
      "source": [
        "attributes = list(df.columns[:-1])\n",
        "tree=c45(df,attributes)"
      ],
      "metadata": {
        "id": "EhECQr4-685E"
      },
      "execution_count": null,
      "outputs": []
    },
    {
      "cell_type": "code",
      "source": [
        "import pprint\n",
        "pprint.pprint(tree)"
      ],
      "metadata": {
        "colab": {
          "base_uri": "https://localhost:8080/"
        },
        "id": "UVbNZfnrCW5x",
        "outputId": "5becee84-08af-445e-f9e1-4a0e83b47804"
      },
      "execution_count": null,
      "outputs": [
        {
          "output_type": "stream",
          "name": "stdout",
          "text": [
            "{'age': {'Midage': 'yes',\n",
            "         'senior': {'credit_rating': {'excellent': 'no', 'fair': 'yes'}},\n",
            "         'young': {'student': {'no': 'no', 'yes': 'yes'}}}}\n"
          ]
        }
      ]
    }
  ]
}