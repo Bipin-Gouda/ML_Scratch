{
  "nbformat": 4,
  "nbformat_minor": 0,
  "metadata": {
    "colab": {
      "provenance": [],
      "authorship_tag": "ABX9TyMBdW8dUNRYF4eZisLig2ZK",
      "include_colab_link": true
    },
    "kernelspec": {
      "name": "python3",
      "display_name": "Python 3"
    },
    "language_info": {
      "name": "python"
    }
  },
  "cells": [
    {
      "cell_type": "markdown",
      "metadata": {
        "id": "view-in-github",
        "colab_type": "text"
      },
      "source": [
        "<a href=\"https://colab.research.google.com/github/Bipin-Gouda/ML_Scratch/blob/main/ID3(self)_ML4.ipynb\" target=\"_parent\"><img src=\"https://colab.research.google.com/assets/colab-badge.svg\" alt=\"Open In Colab\"/></a>"
      ]
    },
    {
      "cell_type": "markdown",
      "source": [
        "# Implementation Of ID3 Decision Tree Algorithm"
      ],
      "metadata": {
        "id": "HXKE84EfLJ1L"
      }
    },
    {
      "cell_type": "code",
      "source": [
        "# ID3\n",
        "import pandas as pd\n",
        "import math\n",
        "import numpy as np"
      ],
      "metadata": {
        "id": "vcyWjY8Hh0sM"
      },
      "execution_count": null,
      "outputs": []
    },
    {
      "cell_type": "code",
      "execution_count": null,
      "metadata": {
        "colab": {
          "base_uri": "https://localhost:8080/"
        },
        "id": "t2D364qJhw0Q",
        "outputId": "516e1478-1c3e-42ac-b010-7a8cc236d1df"
      },
      "outputs": [
        {
          "output_type": "stream",
          "name": "stdout",
          "text": [
            "Mounted at /content/drive\n"
          ]
        }
      ],
      "source": [
        "from google.colab import drive\n",
        "drive.mount('/content/drive')"
      ]
    },
    {
      "cell_type": "code",
      "source": [
        "df=pd.read_excel(\"/content/drive/MyDrive/Copy of Lab 4 ML Dataset - ID3.xlsx\",)"
      ],
      "metadata": {
        "id": "xjo0otEbh_yb"
      },
      "execution_count": null,
      "outputs": []
    },
    {
      "cell_type": "code",
      "source": [
        "#print(df)"
      ],
      "metadata": {
        "id": "TDAMiChDiCBu"
      },
      "execution_count": null,
      "outputs": []
    },
    {
      "cell_type": "code",
      "source": [
        "df.columns=df.iloc[1,:]\n",
        "df=df.iloc[2:16,:]\n",
        "print(df)"
      ],
      "metadata": {
        "colab": {
          "base_uri": "https://localhost:8080/"
        },
        "id": "_pfhKy8oiyaJ",
        "outputId": "bdec9321-2cbc-487d-fcb8-5412eab3363d"
      },
      "execution_count": null,
      "outputs": [
        {
          "output_type": "stream",
          "name": "stdout",
          "text": [
            "1      age  income student credit_rating Answer\n",
            "2    young    high      no          fair     no\n",
            "3    young    high      no     excellent     no\n",
            "4   Midage    high      no          fair    yes\n",
            "5   senior  medium      no          fair    yes\n",
            "6   senior     low     yes          fair    yes\n",
            "7   senior     low     yes     excellent     no\n",
            "8   Midage     low     yes     excellent    yes\n",
            "9    young  medium      no          fair     no\n",
            "10   young     low     yes          fair    yes\n",
            "11  senior  medium     yes          fair    yes\n",
            "12   young  medium     yes     excellent    yes\n",
            "13  Midage  medium      no     excellent    yes\n",
            "14  Midage    high     yes          fair    yes\n",
            "15  senior  medium      no     excellent     no\n"
          ]
        }
      ]
    },
    {
      "cell_type": "markdown",
      "source": [
        "### Decision tree implemented on the above dataset"
      ],
      "metadata": {
        "id": "0xQ6WxUFTZ-T"
      }
    },
    {
      "cell_type": "code",
      "source": [
        "df.keys()[-1]  #keys() same as columns"
      ],
      "metadata": {
        "colab": {
          "base_uri": "https://localhost:8080/",
          "height": 36
        },
        "id": "zJlBHiR-N8Ru",
        "outputId": "64ba800c-8317-43ef-c4f2-c2815e61bb57"
      },
      "execution_count": null,
      "outputs": [
        {
          "output_type": "execute_result",
          "data": {
            "text/plain": [
              "'Answer'"
            ],
            "application/vnd.google.colaboratory.intrinsic+json": {
              "type": "string"
            }
          },
          "metadata": {},
          "execution_count": 6
        }
      ]
    },
    {
      "cell_type": "code",
      "source": [
        "#Calculate entropy    (Pilog2Pi)"
      ],
      "metadata": {
        "id": "3irUBzBzkh7H"
      },
      "execution_count": null,
      "outputs": []
    },
    {
      "cell_type": "code",
      "source": [
        "# target doesnt need split variable\n",
        "def calc_entropy(df,target):    # no need of split variable here\n",
        "  values,counts=np.unique(target,return_counts=True)     # array like inputs\n",
        "  entropy=-sum([(counts[i]/sum(counts))*np.log2(counts[i]/sum(counts)) for i in range(len(values))])\n",
        "  return entropy"
      ],
      "metadata": {
        "id": "0_uDdyILkrXw"
      },
      "execution_count": null,
      "outputs": []
    },
    {
      "cell_type": "code",
      "source": [
        "print(calc_entropy(df,df['Answer']))"
      ],
      "metadata": {
        "colab": {
          "base_uri": "https://localhost:8080/"
        },
        "id": "xPvS5_UDmsqH",
        "outputId": "97ff6629-242d-468f-bc03-35cf2a9c6084"
      },
      "execution_count": null,
      "outputs": [
        {
          "output_type": "stream",
          "name": "stdout",
          "text": [
            "0.9402859586706311\n"
          ]
        }
      ]
    },
    {
      "cell_type": "code",
      "source": [
        "#df[df['age']=='young']#['Answer']"
      ],
      "metadata": {
        "id": "V2YUS03qpaI6"
      },
      "execution_count": null,
      "outputs": []
    },
    {
      "cell_type": "code",
      "source": [
        "#df[split_variable==values[i]]['Answer']   # can use .loc also no issue"
      ],
      "metadata": {
        "id": "bsTxhr5mzMvy"
      },
      "execution_count": null,
      "outputs": []
    },
    {
      "cell_type": "markdown",
      "source": [
        "### Gain Calculation"
      ],
      "metadata": {
        "id": "6Aj3v6-HSB14"
      }
    },
    {
      "cell_type": "code",
      "source": [
        "def Gain(df,target,split_variable):     #will have to pass df also because for each small table entropy will be different\n",
        "  entropy=calc_entropy(df,target)\n",
        "  values,counts=np.unique(split_variable,return_counts=True)\n",
        "  weighted_entropy=sum([(counts[i]/sum(counts))*calc_entropy(df,df[split_variable==values[i]]['Answer']) for i in range(len(values))])\n",
        "  return entropy-weighted_entropy\n",
        "\n",
        "#print(Gain(df['Answer'],df['age']))\n"
      ],
      "metadata": {
        "id": "TipCbUqjn0_q"
      },
      "execution_count": null,
      "outputs": []
    },
    {
      "cell_type": "code",
      "source": [
        "print(df.columns)"
      ],
      "metadata": {
        "colab": {
          "base_uri": "https://localhost:8080/"
        },
        "id": "zLWVTO7tzvQy",
        "outputId": "343bd2b9-fd2f-4be2-fcd8-7ab15129d8e3"
      },
      "execution_count": null,
      "outputs": [
        {
          "output_type": "stream",
          "name": "stdout",
          "text": [
            "Index(['age', 'income', 'student', 'credit_rating', 'Answer'], dtype='object', name=1)\n"
          ]
        }
      ]
    },
    {
      "cell_type": "code",
      "source": [
        "maximal=[(Gain(df,df['Answer'],df[i]),i)  for i in df.columns[0:-1]]\n",
        "print(sorted(maximal,reverse=True)[0][1])   # returns column name of column with max Gain values"
      ],
      "metadata": {
        "colab": {
          "base_uri": "https://localhost:8080/"
        },
        "id": "RxHdLkVxylr6",
        "outputId": "6a777861-381c-46f9-ea3b-e008f201c28a"
      },
      "execution_count": null,
      "outputs": [
        {
          "output_type": "stream",
          "name": "stdout",
          "text": [
            "age\n"
          ]
        }
      ]
    },
    {
      "cell_type": "code",
      "source": [
        "def get_subtable(df, attribute, value):\n",
        "  return df[df[attribute]==value].reset_index(drop=True)"
      ],
      "metadata": {
        "id": "KwFYwhjg22e4"
      },
      "execution_count": null,
      "outputs": []
    },
    {
      "cell_type": "code",
      "source": [
        "def buildtree(df, tree=None):\n",
        "  maximal=[(Gain(df,df['Answer'],df[i]),i)  for i in df.columns[0:-1]]\n",
        "  node=sorted(maximal,reverse=True)[0][1]\n",
        "  attvalue=np.unique(df[node])\n",
        "  target=df.columns[-1]                        #Answer (target variable)\n",
        "  if tree is None:\n",
        "    tree={}\n",
        "    tree[node]={}\n",
        "    print(tree)                                       # nested dictionary the value of a node is a dictionary (the subtree of that node)\n",
        "  for value in attvalue:\n",
        "    subtable=get_subtable(df, node, value)\n",
        "    Clvalue, counts=np.unique(subtable[target], return_counts=True)\n",
        "    if len(counts)==1:                                          # it means we have only one remaining all yes or all no\n",
        "      tree[node][value]=Clvalue[0]                              # for leaf nodes # nested dictionary tree[key][key]\n",
        "      print(tree)\n",
        "    else:\n",
        "      tree[node][value]=buildtree(subtable)\n",
        "  return tree"
      ],
      "metadata": {
        "id": "Y5s4a8SfHRw9"
      },
      "execution_count": null,
      "outputs": []
    },
    {
      "cell_type": "code",
      "source": [
        "tree = buildtree(df)"
      ],
      "metadata": {
        "id": "MurRkMsi_Byl",
        "colab": {
          "base_uri": "https://localhost:8080/"
        },
        "outputId": "25a40644-6ed9-4f77-c1e0-c9361dd4da52"
      },
      "execution_count": null,
      "outputs": [
        {
          "output_type": "stream",
          "name": "stdout",
          "text": [
            "{'age': {}}\n",
            "{'age': {'Midage': 'yes'}}\n",
            "{'credit_rating': {}}\n",
            "{'credit_rating': {'excellent': 'no'}}\n",
            "{'credit_rating': {'excellent': 'no', 'fair': 'yes'}}\n",
            "{'student': {}}\n",
            "{'student': {'no': 'no'}}\n",
            "{'student': {'no': 'no', 'yes': 'yes'}}\n"
          ]
        }
      ]
    },
    {
      "cell_type": "code",
      "source": [
        "print(tree)"
      ],
      "metadata": {
        "colab": {
          "base_uri": "https://localhost:8080/"
        },
        "id": "0RI4Jw6tsHVe",
        "outputId": "c37f39e0-9180-4487-a8be-a8a2bbe1079b"
      },
      "execution_count": null,
      "outputs": [
        {
          "output_type": "stream",
          "name": "stdout",
          "text": [
            "{'age': {'Midage': 'yes', 'senior': {'credit_rating': {'excellent': 'no', 'fair': 'yes'}}, 'young': {'student': {'no': 'no', 'yes': 'yes'}}}}\n"
          ]
        }
      ]
    },
    {
      "cell_type": "code",
      "source": [
        "import pprint\n",
        "pprint.pprint(tree)"
      ],
      "metadata": {
        "colab": {
          "base_uri": "https://localhost:8080/"
        },
        "id": "XigcV27np5rX",
        "outputId": "a81890d4-80c0-4555-9a13-19a8aefaf778"
      },
      "execution_count": null,
      "outputs": [
        {
          "output_type": "stream",
          "name": "stdout",
          "text": [
            "{'age': {'Midage': 'yes',\n",
            "         'senior': {'credit_rating': {'excellent': 'no', 'fair': 'yes'}},\n",
            "         'young': {'student': {'no': 'no', 'yes': 'yes'}}}}\n"
          ]
        }
      ]
    },
    {
      "cell_type": "code",
      "source": [],
      "metadata": {
        "id": "3UeERD-8r3-x"
      },
      "execution_count": null,
      "outputs": []
    }
  ]
}